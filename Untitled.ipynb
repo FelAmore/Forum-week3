{
 "cells": [
  {
   "cell_type": "code",
   "execution_count": 14,
   "id": "a40baf9d",
   "metadata": {},
   "outputs": [
    {
     "name": "stdout",
     "output_type": "stream",
     "text": [
      "Enter radius: 19\n",
      "1134.11399\n"
     ]
    }
   ],
   "source": [
    "# Q1\n",
    "r = float(input('Enter radius: '))\n",
    "pi = 3.14159\n",
    "print(f'The area of circle is {pi*r**2}')"
   ]
  },
  {
   "cell_type": "code",
   "execution_count": 13,
   "id": "5177be7e",
   "metadata": {},
   "outputs": [
    {
     "name": "stdout",
     "output_type": "stream",
     "text": [
      "Enter your first name: Felise\n",
      "Enter your last name: Pandiora\n",
      "Pandiora Felise\n"
     ]
    }
   ],
   "source": [
    "# Q2\n",
    "fname = input('Enter your first name: ')\n",
    "lname = input('Enter your last name: ')\n",
    "print(lname, fname)"
   ]
  },
  {
   "cell_type": "code",
   "execution_count": 12,
   "id": "1efdd28d",
   "metadata": {},
   "outputs": [
    {
     "name": "stdout",
     "output_type": "stream",
     "text": [
      "Red Black\n"
     ]
    }
   ],
   "source": [
    "# Q3\n",
    "color_list = ['Red', 'Green', 'White', 'Black']\n",
    "print(color_list[0], color_list[-1])"
   ]
  },
  {
   "cell_type": "code",
   "execution_count": 17,
   "id": "3af7491f",
   "metadata": {},
   "outputs": [
    {
     "name": "stdout",
     "output_type": "stream",
     "text": [
      "Enter any integer: 1\n",
      "123\n"
     ]
    }
   ],
   "source": [
    "# Q4\n",
    "n = input('Enter any integer: ')\n",
    "print(eval(f'{n} + {n}{n} + {n}{n}{n}'))"
   ]
  },
  {
   "cell_type": "code",
   "execution_count": 19,
   "id": "459a5ad4",
   "metadata": {},
   "outputs": [
    {
     "name": "stdout",
     "output_type": "stream",
     "text": [
      "904.7779199999999\n"
     ]
    }
   ],
   "source": [
    "# Q5\n",
    "pi = 3.14159\n",
    "r = 6\n",
    "print(f'The volume of sphere is {(4/3)*pi*(r**3)}')"
   ]
  },
  {
   "cell_type": "code",
   "execution_count": 21,
   "id": "7ed69401",
   "metadata": {},
   "outputs": [
    {
     "name": "stdout",
     "output_type": "stream",
     "text": [
      "Enter a number: 18\n",
      "2\n"
     ]
    }
   ],
   "source": [
    "# Q6\n",
    "n = int(input('Enter any number: '))\n",
    "if n <= 17:\n",
    "    print(17-n)\n",
    "else: \n",
    "    print((n-17)*2)"
   ]
  },
  {
   "cell_type": "code",
   "execution_count": 24,
   "id": "8e8c7d00",
   "metadata": {},
   "outputs": [
    {
     "name": "stdout",
     "output_type": "stream",
     "text": [
      "Enter the first number: 1\n",
      "Enter the second number: 1\n",
      "Enter the third number: 1\n",
      "9\n"
     ]
    }
   ],
   "source": [
    "# Q7\n",
    "n1 = int(input('Enter the first number: '))\n",
    "n2 = int(input('Enter the second number: '))\n",
    "n3 = int(input('Enter the third number: '))\n",
    "if n1 == n2 == n3:\n",
    "    print((n1+n2+n3)*3)\n",
    "else: \n",
    "    print(n1+n2+n3)"
   ]
  },
  {
   "cell_type": "code",
   "execution_count": 27,
   "id": "4ed856d4",
   "metadata": {},
   "outputs": [
    {
     "name": "stdout",
     "output_type": "stream",
     "text": [
      "Enter any number: 887\n",
      "887 is an odd number\n"
     ]
    }
   ],
   "source": [
    "# Q8\n",
    "n = int(input('Enter any number: '))\n",
    "if n%2 == 1:\n",
    "    print(f'{n} is an odd number')\n",
    "else:\n",
    "    print(f'{n} is an even number')"
   ]
  },
  {
   "cell_type": "code",
   "execution_count": 30,
   "id": "48b4981e",
   "metadata": {},
   "outputs": [
    {
     "name": "stdout",
     "output_type": "stream",
     "text": [
      "Enter any alphabet:  u\n",
      "u is vowel\n"
     ]
    }
   ],
   "source": [
    "# Q9\n",
    "vowel = ['a', 'e', 'i', 'o', 'u']\n",
    "a = input('Enter any alphabet:  ')\n",
    "if a in vowel:\n",
    "    print(f'{a} is vowel')\n",
    "else:\n",
    "    print(f'{a} is consonant')"
   ]
  },
  {
   "cell_type": "code",
   "execution_count": 34,
   "id": "495edc06",
   "metadata": {},
   "outputs": [
    {
     "name": "stdout",
     "output_type": "stream",
     "text": [
      "Enter a religion: muslim\n",
      "Muslim is a religion recognized by Indonesia\n"
     ]
    }
   ],
   "source": [
    "# Q10\n",
    "religionIndo = ['Buddhist', 'Muslim', 'Hindu', 'Catholic', 'Protestant', 'Confucian']\n",
    "religion = input('Enter a religion: ').title()\n",
    "if religion in religionIndo:\n",
    "    print(f'{religion} is a religion recognized by Indonesia')\n",
    "else:\n",
    "    print(f'{religion} is not a religion recognized by Indonesia')"
   ]
  },
  {
   "cell_type": "code",
   "execution_count": 84,
   "id": "fb8db163",
   "metadata": {},
   "outputs": [
    {
     "name": "stdout",
     "output_type": "stream",
     "text": [
      "Enter the first number: 3\n",
      "Enter the second number: 6\n",
      "Enter the third number: 1\n",
      "Enter the fourth number: 9\n",
      "n1|⬛️⬛️⬛️    \n",
      "n2|⬛️⬛️⬛️⬛️⬛️⬛️\n",
      "n3|⬛️        \n",
      "n4|⬛️⬛️⬛️⬛️⬛️⬛️⬛️⬛️⬛️\n"
     ]
    }
   ],
   "source": [
    "# Q11\n",
    "def histogram(emo):\n",
    "    n = 1\n",
    "    for i in emo:\n",
    "        display = ''\n",
    "        rep = i\n",
    "        while rep > 0:\n",
    "            display += '⬛️'\n",
    "            rep -= 1\n",
    "        print('{:1}{:1}|{:10}'.format('n', n, display))\n",
    "        n += 1\n",
    "n1 = int(input('Enter the first number: '))\n",
    "n2 = int(input('Enter the second number: '))\n",
    "n3 = int(input('Enter the third number: '))\n",
    "n4 = int(input('Enter the fourth number: '))\n",
    "list = [n1, n2, n3, n4]\n",
    "histogram(list)"
   ]
  },
  {
   "cell_type": "code",
   "execution_count": 41,
   "id": "88194ee1",
   "metadata": {},
   "outputs": [
    {
     "name": "stdout",
     "output_type": "stream",
     "text": [
      "386\n",
      "462\n",
      "418\n",
      "344\n",
      "236\n",
      "566\n",
      "978\n",
      "328\n",
      "162\n",
      "758\n",
      "918\n",
      "412\n",
      "566\n",
      "826\n",
      "248\n",
      "866\n",
      "950\n",
      "626\n",
      "104\n",
      "58\n",
      "512\n",
      "24\n",
      "892\n",
      "894\n",
      "742\n",
      "958\n"
     ]
    }
   ],
   "source": [
    "# Q12\n",
    "numbers = [386, 462, 47, 418, 907, 344, 236, 375, 823, 566, 597, 978, 328, 615, 953, 345,\n",
    " 399, 162, 758, 219, 918, 237, 412, 566, 826, 248, 866, 950, 626, 949, 687, 217,\n",
    " 815, 67, 104, 58, 512, 24, 892, 894, 767, 553, 81, 379, 843, 831, 445, 742, 717,\n",
    " 958,743, 527]\n",
    "for i in numbers:\n",
    "    if i%2 == 0:\n",
    "        print(i)\n",
    "    else:\n",
    "        continue"
   ]
  },
  {
   "cell_type": "code",
   "execution_count": 42,
   "id": "8b0d1f17",
   "metadata": {},
   "outputs": [
    {
     "name": "stdout",
     "output_type": "stream",
     "text": [
      "Enter the base of a triangle: 3\n",
      "Enter the height of a triangle: 4\n",
      "The area of the triangle is 6.0\n"
     ]
    }
   ],
   "source": [
    "# Q13\n",
    "base = int(input('Enter the base of a triangle: '))\n",
    "height = int(input('Enter the height of a triangle: '))\n",
    "print(f'The area of the triangle is {base*height/2}')"
   ]
  },
  {
   "cell_type": "code",
   "execution_count": 46,
   "id": "551d034e",
   "metadata": {},
   "outputs": [
    {
     "name": "stdout",
     "output_type": "stream",
     "text": [
      "Enter the first positive int: 7\n",
      "Enter the second positive int: 3\n",
      "The LCM of 7 and 3 is 21\n"
     ]
    }
   ],
   "source": [
    "# Q14\n",
    "n1 = int(input('Enter the first positive int: '))\n",
    "n2 = int(input('Enter the second positive int: '))\n",
    "z = n1*n2\n",
    "for i in range(1, z+1):\n",
    "    if i%n1 == 0 and i%n2 == 0:\n",
    "        print(f'The LCM of {n1} and {n2} is {i}')\n",
    "        break"
   ]
  },
  {
   "cell_type": "code",
   "execution_count": 50,
   "id": "7533737c",
   "metadata": {},
   "outputs": [
    {
     "name": "stdout",
     "output_type": "stream",
     "text": [
      "Enter the first number: 3\n",
      "Enter the second number: 6\n",
      "Enter the third number: 6\n",
      "The sum is zero\n"
     ]
    }
   ],
   "source": [
    "# Q15\n",
    "n1 = int(input('Enter the first number: '))\n",
    "n2 = int(input('Enter the second number: '))\n",
    "n3 = int(input('Enter the third number: '))\n",
    "if n1 == n2 or n2 == n3 or n1 == n3:\n",
    "    print('The sum is zero')\n",
    "else: \n",
    "    print(f'The sum is {n1+n2+n3}')"
   ]
  },
  {
   "cell_type": "code",
   "execution_count": 51,
   "id": "9086a680",
   "metadata": {},
   "outputs": [
    {
     "name": "stdout",
     "output_type": "stream",
     "text": [
      "Enter the first number: 4\n",
      "Enter the second number: 3\n",
      "The result of (x+y)*(x+y) is 49\n"
     ]
    }
   ],
   "source": [
    "# Q16\n",
    "x = int(input('Enter the first number: '))\n",
    "y = int(input('Enter the second number: '))\n",
    "print(f'The result of (x+y)*(x+y) is {(x+y)**2}')"
   ]
  },
  {
   "cell_type": "code",
   "execution_count": 60,
   "id": "ecf52c74",
   "metadata": {},
   "outputs": [
    {
     "name": "stdout",
     "output_type": "stream",
     "text": [
      "Enter the principle amount: 10000\n",
      "Enter the rate of interest: 3.5\n",
      "Enter the period: 7\n",
      "The future value is 12722.79\n"
     ]
    }
   ],
   "source": [
    "# Q17\n",
    "amt = float(input('Enter the principle amount: '))\n",
    "rateInt = float(input('Enter the rate of interest: '))\n",
    "period = float(input('Enter the period: '))\n",
    "futureValue = amt*(1+(0.01*rateInt))**period\n",
    "print(f'The future value is {round(futureValue,2)}')"
   ]
  },
  {
   "cell_type": "code",
   "execution_count": 66,
   "id": "0cf909e9",
   "metadata": {},
   "outputs": [
    {
     "name": "stdout",
     "output_type": "stream",
     "text": [
      "Enter the first x coordinate: 1\n",
      "Enter the first y coordinate: 6\n",
      "Enter the second x coordinate: -3\n",
      "Enter the second y coordinate: -4\n",
      "The distance between the points: 10.770329614269007\n"
     ]
    }
   ],
   "source": [
    "# Q18\n",
    "x1 = int(input('Enter the first x coordinate: '))\n",
    "y1 = int(input('Enter the first y coordinate: '))\n",
    "x2 = int(input('Enter the second x coordinate: '))\n",
    "y2 = int(input('Enter the second y coordinate: '))\n",
    "X = x2 - x1\n",
    "Y = y2 - y1\n",
    "print(f'The distance between the points: {(((x2-x1)**2) + ((y2-y1)**2))**0.5}')"
   ]
  },
  {
   "cell_type": "code",
   "execution_count": 72,
   "id": "59aa8051",
   "metadata": {},
   "outputs": [
    {
     "name": "stdout",
     "output_type": "stream",
     "text": [
      "Enter any positive int: 4\n",
      "The sum of the first 4 positive int: 10\n"
     ]
    }
   ],
   "source": [
    "# Q19\n",
    "n = int(input('Enter any positive int: '))\n",
    "print(f'The sum of the first {n} positive int: {(n*(n+1))//2}')"
   ]
  },
  {
   "cell_type": "code",
   "execution_count": 73,
   "id": "9c3ae893",
   "metadata": {},
   "outputs": [
    {
     "name": "stdout",
     "output_type": "stream",
     "text": [
      "Enter your height (feet): 5\n",
      "Enter your height (inches): 4\n",
      "Your height in centimeters: 162.56\n"
     ]
    }
   ],
   "source": [
    "# Q20\n",
    "feet = int(input('Enter your height (feet): ')) # 1 foot = 12 inches\n",
    "inches = int(input('Enter your height (inches): ')) # 1 inch = 2.54 cm\n",
    "height = ((feet*12)*2.54) + (inches*2.54)\n",
    "print(f'Your height in centimeters: {height}')"
   ]
  },
  {
   "cell_type": "code",
   "execution_count": 74,
   "id": "7868d7ea",
   "metadata": {},
   "outputs": [
    {
     "name": "stdout",
     "output_type": "stream",
     "text": [
      "Given a right angled triangle with 3 sides (adjacent, opposite, and hypotenuse)\n",
      "Enter the adjacent length: 6\n",
      "Enter the opposite length: 9\n",
      "The hypotenuse of the right angled triangle is 10.816653826391969\n"
     ]
    }
   ],
   "source": [
    "# Q21\n",
    "print('Given a right angled triangle with 3 sides (adjacent, opposite, and hypotenuse)')\n",
    "a = float(input('Enter the adjacent length: '))\n",
    "o = float(input('Enter the opposite length: '))\n",
    "h = ((a**2)+(o**2))**0.5\n",
    "print(f'The hypotenuse of the right angled triangle is {h}')"
   ]
  },
  {
   "cell_type": "code",
   "execution_count": 75,
   "id": "85d9f9f7",
   "metadata": {},
   "outputs": [
    {
     "name": "stdout",
     "output_type": "stream",
     "text": [
      "Enter your weight (kg): 52\n",
      "Enter your height (m): 1.62\n",
      "Your BMI is 19.81405273586343\n"
     ]
    }
   ],
   "source": [
    "# Q22\n",
    "w = float(input('Enter your weight (kg): '))\n",
    "h = float(input('Enter your height (m): '))\n",
    "bmi = w / (h**2)\n",
    "print(f'Your BMI is {bmi}')"
   ]
  },
  {
   "cell_type": "code",
   "execution_count": 78,
   "id": "ee730668",
   "metadata": {},
   "outputs": [
    {
     "name": "stdout",
     "output_type": "stream",
     "text": [
      "Please enter the coordinates of a line\n",
      "Enter the first x coordinate: 2\n",
      "Enter the first y coordinate: 3\n",
      "Enter the second x coordinate: 3\n",
      "Enter the second y coordinate: 4\n",
      "The midpoint of your line is 2.5,3.5\n"
     ]
    }
   ],
   "source": [
    "# Q23\n",
    "print('Please enter the coordinates of a line')\n",
    "x1 = int(input('Enter the first x coordinate: '))\n",
    "y1 = int(input('Enter the first y coordinate: '))\n",
    "x2 = int(input('Enter the second x coordinate: '))\n",
    "y2 = int(input('Enter the second y coordinate: '))\n",
    "mpx = (x1+x2)/2\n",
    "mpy = (y1+y2)/2\n",
    "print(f'The midpoint of your line is {mpx},{mpy}')"
   ]
  },
  {
   "cell_type": "code",
   "execution_count": 83,
   "id": "a9888d8c",
   "metadata": {},
   "outputs": [
    {
     "name": "stdout",
     "output_type": "stream",
     "text": [
      "2002,2009,2016,2023,2037,2044,2051,2058,2072,2079,2086,2093,2107,2114,2121,2128,2142,2149,2156,2163,2177,2184,2191,2198,2212,2219,2226,2233,2247,2254,2261,2268,2282,2289,2296,2303,2317,2324,2331,2338,2352,2359,2366,2373,2387,2394,2401,2408,2422,2429,2436,2443,2457,2464,2471,2478,2492,2499,2506,2513,2527,2534,2541,2548,2562,2569,2576,2583,2597,2604,2611,2618,2632,2639,2646,2653,2667,2674,2681,2688,2702,2709,2716,2723,2737,2744,2751,2758,2772,2779,2786,2793,2807,2814,2821,2828,2842,2849,2856,2863,2877,2884,2891,2898,2912,2919,2926,2933,2947,2954,2961,2968,2982,2989,2996,3003,3017,3024,3031,3038,3052,3059,3066,3073,3087,3094,3101,3108,3122,3129,3136,3143,3157,3164,3171,3178,3192,3199,"
     ]
    }
   ],
   "source": [
    "# Q24\n",
    "for i in range (2000, 3201):\n",
    "    if i%7 == 0 and i%5 != 0:\n",
    "        print(i, end=',')"
   ]
  },
  {
   "cell_type": "code",
   "execution_count": null,
   "id": "646c32cb",
   "metadata": {},
   "outputs": [],
   "source": []
  }
 ],
 "metadata": {
  "kernelspec": {
   "display_name": "Python 3 (ipykernel)",
   "language": "python",
   "name": "python3"
  },
  "language_info": {
   "codemirror_mode": {
    "name": "ipython",
    "version": 3
   },
   "file_extension": ".py",
   "mimetype": "text/x-python",
   "name": "python",
   "nbconvert_exporter": "python",
   "pygments_lexer": "ipython3",
   "version": "3.10.6"
  }
 },
 "nbformat": 4,
 "nbformat_minor": 5
}
